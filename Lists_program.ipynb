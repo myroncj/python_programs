{
 "cells": [
  {
   "cell_type": "code",
   "execution_count": 1,
   "metadata": {
    "collapsed": false
   },
   "outputs": [
    {
     "name": "stdout",
     "output_type": "stream",
     "text": [
      "Enter a wordmahalo\n",
      "Enter a wordmahalo\n",
      "Enter a wordmahalo\n",
      "Enter a wordcarl\n",
      "Enter a wordcarl\n",
      "Enter a wordbiscuit\n",
      "Enter a wordbiscuit\n",
      "Enter a wordhello\n",
      "Enter a wordbye\n"
     ]
    }
   ],
   "source": [
    "mylist=[]\n",
    "for i in range(1,10):\n",
    "    x=input('Enter a word')\n",
    "    mylist.append(x)"
   ]
  },
  {
   "cell_type": "code",
   "execution_count": 2,
   "metadata": {
    "collapsed": false
   },
   "outputs": [
    {
     "name": "stdout",
     "output_type": "stream",
     "text": [
      "['mahalo', 'mahalo', 'mahalo', 'carl', 'carl', 'biscuit', 'biscuit', 'hello', 'bye']\n"
     ]
    }
   ],
   "source": [
    "print(mylist)\n"
   ]
  },
  {
   "cell_type": "code",
   "execution_count": 3,
   "metadata": {
    "collapsed": false
   },
   "outputs": [
    {
     "name": "stdout",
     "output_type": "stream",
     "text": [
      "{'carl', 'biscuit', 'hello', 'bye', 'mahalo'}\n"
     ]
    }
   ],
   "source": [
    "print(set(mylist))"
   ]
  },
  {
   "cell_type": "code",
   "execution_count": 9,
   "metadata": {
    "collapsed": false,
    "scrolled": true
   },
   "outputs": [
    {
     "name": "stdout",
     "output_type": "stream",
     "text": [
      "['mahalo', 'mahalo', 'mahalo', 'hello', 'carl', 'carl', 'bye', 'biscuit', 'biscuit']\n",
      "['mahalo', 'mahalo', 'mahalo', 'carl', 'carl', 'biscuit', 'biscuit', 'hello', 'bye']\n"
     ]
    }
   ],
   "source": [
    "x=sorted(mylist,reverse=True)\n",
    "y=sorted(mylist)\n",
    "print(x)\n",
    "print(mylist)"
   ]
  },
  {
   "cell_type": "code",
   "execution_count": 12,
   "metadata": {
    "collapsed": false
   },
   "outputs": [
    {
     "name": "stdout",
     "output_type": "stream",
     "text": [
      "Enter a characterg\n",
      "It isn't a vowel!\n"
     ]
    }
   ],
   "source": [
    "one = input('Enter a character')\n",
    "if(one=='a' or one=='A' or one=='e' or one=='E' or one=='i' or one=='I' or one=='o'or one=='O' or one=='u' or one=='U'):\n",
    "    print('It is a vowel!')\n",
    "else:\n",
    "    print('It isn\\'t a vowel!')"
   ]
  },
  {
   "cell_type": "code",
   "execution_count": null,
   "metadata": {
    "collapsed": true
   },
   "outputs": [],
   "source": []
  },
  {
   "cell_type": "code",
   "execution_count": null,
   "metadata": {
    "collapsed": true
   },
   "outputs": [],
   "source": []
  }
 ],
 "metadata": {
  "language_info": {
   "codemirror_mode": {
    "name": "ipython",
    "version": 3
   },
   "file_extension": ".py",
   "mimetype": "text/x-python",
   "name": "python",
   "nbconvert_exporter": "python",
   "pygments_lexer": "ipython3",
   "version": "3.5.2"
  }
 },
 "nbformat": 4,
 "nbformat_minor": 1
}
